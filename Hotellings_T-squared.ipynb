{
 "cells": [
  {
   "cell_type": "markdown",
   "id": "9cca6e71",
   "metadata": {},
   "source": [
    "<center><h2>Hotelling's T²</h2></center>"
   ]
  },
  {
   "cell_type": "markdown",
   "id": "91af6732",
   "metadata": {},
   "source": [
    "## One-Sample **Hotelling's T²**"
   ]
  },
  {
   "cell_type": "markdown",
   "id": "991ddebb",
   "metadata": {},
   "source": [
    "The formula you're referring to is the formula for one sample **Hotelling's T²** statistic. Let’s break it down:\n",
    "\n",
    "$$\n",
    "T^2 = n(\\bar{X} - \\mu)^T S^{-1} (\\bar{X} - \\mu)\n",
    "$$\n",
    "\n",
    "### Explanation of Terms:\n",
    "\n",
    "1. $n$: The sample size (number of observations).\n",
    "   \n",
    "2. $\\bar{X}$ : The vector of sample means for each variable. It's a \\( p \\)-dimensional vector where \\( p \\) is the number of variables. This is computed by averaging each column (variable) in the dataset.\n",
    "\n",
    "3. $\\mu$: The hypothesized mean vector. This is what you're testing against. It could be a vector of historical means, industry standards, control group means, etc.\n",
    "\n",
    "4. $S$: The sample covariance matrix. It is a \\( p \\times p \\) matrix that captures the variances of and covariances between the variables in the dataset.\n",
    "\n",
    "5. $S^{-1}$: The inverse of the sample covariance matrix. It accounts for the relationships between the variables.\n",
    "\n",
    "6. $\\bar{X} - \\mu$: This is the difference between the sample mean vector and the hypothesized mean vector. It represents the deviation from the expected values for each variable.\n",
    "\n",
    "7. $(\\bar{X} - \\mu)^T$: This is the transpose of the difference vector, turning the column vector into a row vector, so it can be multiplied by the inverse covariance matrix.\n",
    "\n",
    "### Interpretation:\n",
    "- Hotelling’s T² is a **multivariate** generalization of the t-test that allows you to test whether a set of sample means (for multiple variables) significantly differs from the hypothesized mean vector \\( \\mu \\).\n",
    "  \n",
    "- The larger the value of \\( T^2 \\), the greater the difference between the sample mean and the hypothesized mean.\n"
   ]
  },
  {
   "cell_type": "markdown",
   "id": "e92bd0af",
   "metadata": {},
   "source": [
    "### why do we need to Perform one sample Hotelling T2 ?\n",
    "#### The one-sample **Hotelling's T²** test is used in multivariate statistics to test whether the mean vector of a multivariate population differs from a specified value. It is a multivariate extension of the one-sample t-test, which is used when analyzing a single variable.\n",
    "\n",
    "Here are the key reasons to perform a **one-sample Hotelling's T²** test:\n",
    "\n",
    "### 1. **Multivariate Nature of the Data**:\n",
    "   When you're dealing with **multiple correlated dependent variables**, you cannot simply run separate t-tests for each variable, as this increases the risk of Type I errors (false positives). Hotelling's T² allows you to analyze these variables together, taking into account their correlations.\n",
    "\n",
    "### 2. **Simultaneous Testing**:\n",
    "   It tests whether the vector of sample means differs from a known vector of population means (often a vector of zeros). Instead of testing each variable's mean individually, Hotelling's T² **tests them simultaneously**, controlling for relationships between the variables.\n",
    "\n",
    "### 3. **More Accurate Inference**:\n",
    "   By considering the covariance among the variables, the test provides a more accurate assessment of whether the mean differences are statistically significant. This is especially useful when the variables are not independent.\n",
    "\n",
    "### 4. **Applications**:\n",
    "   - **Quality Control**: In industries, when assessing the quality of a product with multiple dimensions (e.g., strength, durability, appearance), Hotelling's T² can check if the overall quality differs from a standard.\n",
    "   - **Medical Research**: In clinical trials or studies involving multiple health metrics (e.g., blood pressure, cholesterol levels), it tests whether the overall health status differs from a control or norm.\n",
    "   - **Survey Analysis**: When analyzing survey responses across multiple categories (e.g., satisfaction, comfort, reliability), the test can determine if the responses deviate from an expected value.\n",
    "\n",
    "In summary, we perform a one-sample Hotelling's T² test when we need to make inferences about the means of multiple variables simultaneously, especially when these variables are correlated. This test provides a multivariate framework for hypothesis testing that accounts for the relationships between variables, making it more robust than running multiple univariate tests."
   ]
  },
  {
   "cell_type": "markdown",
   "id": "3f0b62e8",
   "metadata": {},
   "source": [
    "### Explanation of Terms:\n",
    "\n",
    "1. **\\( n \\)**: The sample size (number of observations).\n",
    "   \n",
    "2. **\\( \\bar{X} \\)**: The vector of sample means for each variable. It's a \\( p \\)-dimensional vector where \\( p \\) is the number of variables. This is computed by averaging each column (variable) in the dataset.\n",
    "\n",
    "3. **\\( \\mu \\)**: The hypothesized mean vector. This is what you're testing against. It could be a vector of historical means, industry standards, control group means, etc.\n",
    "\n",
    "4. **\\( S \\)**: The sample covariance matrix. It is a \\( p \\times p \\) matrix that captures the variances of and covariances between the variables in the dataset.\n",
    "\n",
    "5. **\\( S^{-1} \\)**: The inverse of the sample covariance matrix. It accounts for the relationships between the variables.\n",
    "\n",
    "6. **\\( (\\bar{X} - \\mu) \\)**: This is the difference between the sample mean vector and the hypothesized mean vector. It represents the deviation from the expected values for each variable.\n",
    "\n",
    "7. **\\( (\\bar{X} - \\mu)^T \\)**: This is the transpose of the difference vector, turning the column vector into a row vector, so it can be multiplied by the inverse covariance matrix.\n",
    "\n",
    "### Interpretation:\n",
    "- Hotelling’s T² is a **multivariate** generalization of the t-test that allows you to test whether a set of sample means (for multiple variables) significantly differs from the hypothesized mean vector \\( \\mu \\).\n",
    "  \n",
    "- The larger the value of \\( T^2 \\), the greater the difference between the sample mean and the hypothesized mean.\n"
   ]
  },
  {
   "cell_type": "markdown",
   "id": "8773399a",
   "metadata": {},
   "source": [
    "<center><h2>CODE</h2></center>"
   ]
  },
  {
   "cell_type": "markdown",
   "id": "96718a60",
   "metadata": {},
   "source": [
    "## Libraries"
   ]
  },
  {
   "cell_type": "code",
   "execution_count": 1,
   "id": "bf4a7d17",
   "metadata": {},
   "outputs": [],
   "source": [
    "import numpy as np\n",
    "import pandas as pd\n",
    "from sklearn import datasets\n",
    "from scipy.stats import f"
   ]
  },
  {
   "cell_type": "markdown",
   "id": "28cf4b48",
   "metadata": {},
   "source": [
    "### one-sample **Hotelling's T²**\n",
    "$$\n",
    "T^2 = n(\\bar{X} - \\mu)^T S^{-1} (\\bar{X} - \\mu)\n",
    "$$"
   ]
  },
  {
   "cell_type": "code",
   "execution_count": 2,
   "id": "0594b469",
   "metadata": {},
   "outputs": [],
   "source": [
    "\n",
    "def hotellings_t_squared_test(X, mu):\n",
    "    # Number of observations (n) and number of variables (p)\n",
    "    n, p = X.shape\n",
    "\n",
    "    # Hypothesized mean vector (mu) - Assuming population mean is a vector of based on your own data\n",
    "\n",
    "    # Calculate sample mean vector (X_bar)\n",
    "    X_bar = np.mean(X, axis=0)\n",
    "\n",
    "    # Calculate sample covariance matrix (S)\n",
    "    S = np.cov(X, rowvar=False)\n",
    "\n",
    "    # Calculate Hotelling's T-squared statistic\n",
    "    T_squared = n * np.dot(np.dot((X_bar - mu).T, np.linalg.inv(S)), (X_bar - mu))\n",
    "\n",
    "    # Calculate F-statistic equivalent\n",
    "    F_stat = (n - p) / (p * (n - 1)) * T_squared\n",
    "\n",
    "    # Degrees of freedom for F-distribution\n",
    "    df1 = p  # Degrees of freedom 1\n",
    "    df2 = n - p  # Degrees of freedom 2\n",
    "\n",
    "    # p-value\n",
    "    p_value = 1 - f.cdf(F_stat, df1, df2)\n",
    "\n",
    "    return T_squared, F_stat, p_value\n"
   ]
  },
  {
   "cell_type": "markdown",
   "id": "08b80595",
   "metadata": {},
   "source": [
    "### Load your data"
   ]
  },
  {
   "cell_type": "code",
   "execution_count": 3,
   "id": "86042291",
   "metadata": {},
   "outputs": [
    {
     "name": "stdout",
     "output_type": "stream",
     "text": [
      "shape of dataframe (25, 6)\n",
      "---------------------------------------------------------------------------------------------------\n",
      "Index(['Subject', 'Style', 'Comfort', 'Stability', 'Cushion', 'Durability'], dtype='object')\n"
     ]
    }
   ],
   "source": [
    "data = pd.read_excel('Footwear_Quality_Assessment.xlsx')\n",
    "print(\"shape of dataframe\", data.shape)\n",
    "\n",
    "dash_line = '-'.join('' for x in range(100))\n",
    "\n",
    "print(dash_line)\n",
    "print(data.columns)"
   ]
  },
  {
   "cell_type": "code",
   "execution_count": 4,
   "id": "41be7d3f",
   "metadata": {},
   "outputs": [
    {
     "name": "stdout",
     "output_type": "stream",
     "text": [
      "Hotelling's T-squared statistic: 21.999714884305625\n",
      "---------------------------------------------------------------------------------------------------\n",
      "F-statistic: 3.666619147384271\n",
      "---------------------------------------------------------------------------------------------------\n",
      "p-value: 0.016201732088495\n"
     ]
    }
   ],
   "source": [
    "assumed_mean_vector = [7, 8, 5, 6,11] ## assumed based on the given data\n",
    "result = hotellings_t_squared_test(data.drop(columns=['Subject']).values, assumed_mean_vector)\n",
    "print(\"Hotelling's T-squared statistic:\", result[0])\n",
    "print(dash_line)\n",
    "print(\"F-statistic:\", result[1])\n",
    "print(dash_line)\n",
    "print(\"p-value:\",round(result[2], 16))"
   ]
  },
  {
   "cell_type": "markdown",
   "id": "9e03a2d0",
   "metadata": {},
   "source": [
    "### Conclusion\n",
    "We reject the null hypothesis since p-value(0.01) < alpha value (0.05)"
   ]
  },
  {
   "cell_type": "markdown",
   "id": "670e7260",
   "metadata": {},
   "source": [
    "## Two-Sample **Hotelling's T²**"
   ]
  },
  {
   "cell_type": "markdown",
   "id": "99d70415",
   "metadata": {},
   "source": [
    "Two-Sample **Hotelling's T²** Formula:\n",
    "\n",
    "$$\n",
    "T^2 = \\frac{n_1 n_2}{n_1 + n_2} (\\bar{X}_1 - \\bar{X}_2)^T S_W^{-1} (\\bar{X}_1 - \\bar{X}_2)\n",
    "$$\n",
    "\n",
    "-  $n_1$ and  $n_2$: The sample sizes of the two groups.\n",
    "- $\\bar{X}_1 $ and $\\bar{X}_2$: The mean vectors of the two groups.\n",
    "- $S_W$: The pooled within-group covariance matrix, which accounts for the variability within each group.\n",
    "\n"
   ]
  },
  {
   "cell_type": "markdown",
   "id": "08cc824a",
   "metadata": {},
   "source": [
    "\n",
    "A **two-sample Hotelling's T² test** is used to compare the means of two groups across multiple variables, extending the concept of a two-sample t-test to a multivariate setting. Here’s why you would need to perform this test:\n",
    "\n",
    "### 1. **Multivariate Comparison**:\n",
    "   - You have **multiple dependent variables** and want to test whether the mean vectors of these variables are significantly different between two groups. \n",
    "   - Example: Comparing two groups of people on several health indicators (e.g., blood pressure, cholesterol levels, glucose levels). A two-sample Hotelling's T² would assess whether there is a statistically significant difference in the overall health profile between the groups.\n",
    "\n",
    "### 2. **Correlation between Variables**:\n",
    "   - In many multivariate datasets, the variables are not independent of each other, and there may be **correlations** between the variables.\n",
    "   - A two-sample Hotelling's T² test takes this correlation into account, unlike running individual t-tests on each variable, which assumes independence and increases the chance of a Type I error (false positives).\n",
    "\n",
    "### 3. **Control Over Multiple Testing**:\n",
    "   - If you run several individual t-tests (one for each variable), it increases the risk of committing a Type I error (incorrectly rejecting the null hypothesis). The Hotelling’s T² test helps **control the error rate** by considering all variables simultaneously in one test.\n",
    "\n",
    "### 4. **Test of Overall Mean Difference**:\n",
    "   - The test is used when you want to determine if there is an **overall difference** in the mean vectors between the two groups. \n",
    "   - It answers the question: **Is there a significant difference between the groups across the set of variables together**, rather than looking at each variable in isolation.\n",
    "\n",
    "### 5. **Applications**:\n",
    "   - **Medical Research**: Comparing two treatment groups across multiple health indicators.\n",
    "   - **Quality Control**: Testing whether two batches of products differ significantly in several characteristics (e.g., weight, size, and durability).\n",
    "   - **Social Sciences**: Comparing the psychological profiles of two different populations (e.g., using multiple personality traits).\n",
    "\n",
    "### Conclusion:\n",
    "Performing a two-sample Hotelling's T² test is essential when comparing groups on multiple correlated variables and ensuring that the analysis accounts for the relationships between these variables while controlling for multiple comparisons.\n"
   ]
  },
  {
   "cell_type": "markdown",
   "id": "be356eff",
   "metadata": {},
   "source": [
    "<center><h2>CODE</h2></center>"
   ]
  },
  {
   "cell_type": "markdown",
   "id": "baa2cc59",
   "metadata": {},
   "source": [
    "### Two-Sample **Hotelling's T²**\n",
    "$$\n",
    "T^2 = \\frac{n_1 n_2}{n_1 + n_2} (\\bar{X}_1 - \\bar{X}_2)^T S_W^{-1} (\\bar{X}_1 - \\bar{X}_2)\n",
    "$$\n"
   ]
  },
  {
   "cell_type": "code",
   "execution_count": 5,
   "id": "9803571d",
   "metadata": {},
   "outputs": [],
   "source": [
    "\n",
    "def TwoSampleT2Test(X, Y):\n",
    "    \"\"\"\n",
    "    Performs a two-sample Hotelling's T-squared test.\n",
    "\n",
    "    Parameters:\n",
    "    X (numpy.ndarray): Matrix of data for group 1, with observations as rows and variables as columns.\n",
    "    Y (numpy.ndarray): Matrix of data for group 2, with observations as rows and variables as columns.\n",
    "\n",
    "    Returns:\n",
    "    tuple: Contains Hotelling's T-squared statistic, F-statistic, and p-value.\n",
    "    \"\"\"\n",
    "    # Number of observations for each sample (n1 for X, n2 for Y)\n",
    "    n1, p1 = X.shape\n",
    "    n2, p2 = Y.shape\n",
    "\n",
    "    # Ensure the number of variables is the same in both samples\n",
    "    assert p1 == p2, \"Both groups must have the same number of variables.\"\n",
    "    p = p1  # Number of variables (dimensions)\n",
    "\n",
    "    # Calculate mean vectors for each sample\n",
    "    X_bar = np.mean(X, axis=0)\n",
    "    Y_bar = np.mean(Y, axis=0)\n",
    "\n",
    "    # Calculate pooled covariance matrix (S_pooled)\n",
    "    S_X = np.cov(X, rowvar=False)\n",
    "    S_Y = np.cov(Y, rowvar=False)\n",
    "    S_pooled = ((n1 - 1) * S_X + (n2 - 1) * S_Y) / (n1 + n2 - 2)\n",
    "\n",
    "    # Calculate the difference in the mean vectors\n",
    "    mean_diff = X_bar - Y_bar\n",
    "\n",
    "    # Calculate Hotelling's T-squared statistic\n",
    "    T_squared = (n1 * n2) / (n1 + n2) * np.dot(np.dot(mean_diff.T, np.linalg.inv(S_pooled)), mean_diff)\n",
    "\n",
    "    # Calculate F-statistic equivalent\n",
    "    F_stat = (n1 + n2 - p - 1) / (p * (n1 + n2 - 2)) * T_squared\n",
    "\n",
    "    # Degrees of freedom for F-distribution\n",
    "    df1 = p  # Degrees of freedom 1\n",
    "    df2 = n1 + n2 - p - 1  # Degrees of freedom 2\n",
    "\n",
    "    # p-value\n",
    "    p_value = 1 - f.cdf(F_stat, df1, df2)\n",
    "\n",
    "    return T_squared, F_stat, p_value"
   ]
  },
  {
   "cell_type": "markdown",
   "id": "22f7615e",
   "metadata": {},
   "source": [
    "### Loading Data"
   ]
  },
  {
   "cell_type": "code",
   "execution_count": 6,
   "id": "58687466",
   "metadata": {},
   "outputs": [
    {
     "data": {
      "text/plain": [
       "(414, 8)"
      ]
     },
     "execution_count": 6,
     "metadata": {},
     "output_type": "execute_result"
    }
   ],
   "source": [
    "data = pd.read_csv(\"Real-estate.csv\")\n",
    "data.shape"
   ]
  },
  {
   "cell_type": "markdown",
   "id": "0bde380f",
   "metadata": {},
   "source": [
    "##### Splitting the data into two groups as two samples"
   ]
  },
  {
   "cell_type": "code",
   "execution_count": 7,
   "id": "3e0f0500",
   "metadata": {},
   "outputs": [],
   "source": [
    "group1 = data.iloc[:15, 1:]\n",
    "group2 = data.iloc[15:30, 1:] ## the sample should be less than 30"
   ]
  },
  {
   "cell_type": "code",
   "execution_count": 8,
   "id": "dbd251ee",
   "metadata": {},
   "outputs": [
    {
     "name": "stdout",
     "output_type": "stream",
     "text": [
      "Hotelling's T-squared statistic: 15.57818305545573\n",
      "---------------------------------------------------------------------------------------------------\n",
      "F-statistic: 1.7485715674491125\n",
      "---------------------------------------------------------------------------------------------------\n",
      "p-value: 0.14929486734301478\n"
     ]
    }
   ],
   "source": [
    "# Run the two-sample Hotelling's T-squared test\n",
    "T_squared, F_stat, p_value = TwoSampleT2Test(group1, group2)\n",
    "\n",
    "print(\"Hotelling's T-squared statistic:\", T_squared)\n",
    "print(dash_line)\n",
    "print(\"F-statistic:\", F_stat)\n",
    "print(dash_line)\n",
    "print(\"p-value:\", p_value)"
   ]
  },
  {
   "cell_type": "markdown",
   "id": "58b0d240",
   "metadata": {},
   "source": [
    "### Conclusion\n",
    "We accept our null hypothesis since p(0.14) > alpha value(0.05)"
   ]
  }
 ],
 "metadata": {
  "kernelspec": {
   "display_name": "Python 3 (ipykernel)",
   "language": "python",
   "name": "python3"
  },
  "language_info": {
   "codemirror_mode": {
    "name": "ipython",
    "version": 3
   },
   "file_extension": ".py",
   "mimetype": "text/x-python",
   "name": "python",
   "nbconvert_exporter": "python",
   "pygments_lexer": "ipython3",
   "version": "3.11.4"
  }
 },
 "nbformat": 4,
 "nbformat_minor": 5
}
