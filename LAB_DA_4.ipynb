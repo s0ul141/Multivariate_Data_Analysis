{
 "cells": [
  {
   "cell_type": "markdown",
   "metadata": {},
   "source": [
    "## NAME : Soumya Basu\n",
    "## Reg NO. : 23MDT0047"
   ]
  },
  {
   "cell_type": "markdown",
   "metadata": {},
   "source": [
    "## Problem 1: Fit logistic regression for the data given below and comment on your findings."
   ]
  },
  {
   "cell_type": "markdown",
   "metadata": {},
   "source": [
    "### Creating data"
   ]
  },
  {
   "cell_type": "code",
   "execution_count": 2,
   "metadata": {},
   "outputs": [
    {
     "name": "stdout",
     "output_type": "stream",
     "text": [
      "      X1    X2    X3    X4     X5\n",
      "0    3.9  51.0  0.20  7.06  12.19\n",
      "1    2.7  49.0  0.07  7.14  12.23\n",
      "2    2.8  36.0  0.30  7.00  11.30\n",
      "3    3.1  45.0  0.08  7.20  13.01\n",
      "4    3.5  46.0  0.10  7.81  12.63\n",
      "5    3.9  43.0  0.07  6.25  10.42\n",
      "6    2.7  35.0  0.00  5.11   9.00\n",
      "7    5.0  47.0  0.07  7.06   6.10\n",
      "8    3.4  32.0  0.20  5.82   4.69\n",
      "9    1.2  12.0  0.00  5.54   3.15\n",
      "10   8.4  17.0  0.07  6.31   4.55\n",
      "11   4.2  36.0  0.50  9.25   4.95\n",
      "12   4.2  35.0  0.50  5.69   2.22\n",
      "13   3.9  41.0  0.10  5.63   2.94\n",
      "14   3.9  36.0  0.07  6.19   2.27\n",
      "15   7.3  32.0  0.30  8.02  12.92\n",
      "16   4.4  46.0  0.07  7.54   5.76\n",
      "17   3.0  30.0  0.00  5.12  10.77\n",
      "18   6.3  13.0  0.50  4.24   8.27\n",
      "19   1.7   5.6  1.00  5.69   4.64\n",
      "20   7.3  24.0  0.00  4.34   2.99\n",
      "21   7.8  18.0  0.50  3.92   6.09\n",
      "22   7.8  25.0  0.70  5.39   6.20\n",
      "23   7.8  26.0  1.00  5.02   2.50\n",
      "24   9.5  17.0  0.05  3.52   5.71\n",
      "25   7.7  14.0  0.30  4.65   8.63\n",
      "26  11.0  20.0  0.50  4.27   8.40\n",
      "27   8.0  14.0  0.30  4.32   7.87\n",
      "28   8.4  18.0  0.20  4.38   7.98\n"
     ]
    }
   ],
   "source": [
    "import pandas as pd\n",
    "\n",
    "# Data\n",
    "data = {\n",
    "    'X1': [3.9, 2.7, 2.8, 3.1, 3.5, 3.9, 2.7, 5.0, 3.4, 1.2, 8.4, 4.2, 4.2, 3.9, 3.9, 7.3, 4.4, 3.0, 6.3, 1.7, 7.3, 7.8, 7.8, 7.8, 9.5, 7.7, 11.0, 8.0, 8.4],\n",
    "    'X2': [51.0, 49.0, 36.0, 45.0, 46.0, 43.0, 35.0, 47.0, 32.0, 12.0, 17.0, 36.0, 35.0, 41.0, 36.0, 32.0, 46.0, 30.0, 13.0, 5.6, 24.0, 18.0, 25.0, 26.0, 17.0, 14.0, 20.0, 14.0, 18.0],\n",
    "    'X3': [0.20, 0.07, 0.30, 0.08, 0.10, 0.07, 0.00, 0.07, 0.20, 0.00, 0.07, 0.50, 0.50, 0.10, 0.07, 0.30, 0.07, 0.00, 0.50, 1.00, 0.00, 0.50, 0.70, 1.00, 0.05, 0.30, 0.50, 0.30, 0.20],\n",
    "    'X4': [7.06, 7.14, 7.00, 7.20, 7.81, 6.25, 5.11, 7.06, 5.82, 5.54, 6.31, 9.25, 5.69, 5.63, 6.19, 8.02, 7.54, 5.12, 4.24, 5.69, 4.34, 3.92, 5.39, 5.02, 3.52, 4.65, 4.27, 4.32, 4.38],\n",
    "    'X5': [12.19, 12.23, 11.30, 13.01, 12.63, 10.42, 9.00, 6.10, 4.69, 3.15, 4.55, 4.95, 2.22, 2.94, 2.27, 12.92, 5.76, 10.77, 8.27, 4.64, 2.99, 6.09, 6.20, 2.50, 5.71, 8.63, 8.40, 7.87, 7.98]\n",
    "}\n",
    "\n",
    "# Create DataFrame\n",
    "df = pd.DataFrame(data)\n",
    "\n",
    "# Display the DataFrame\n",
    "print(df)\n"
   ]
  },
  {
   "cell_type": "markdown",
   "metadata": {},
   "source": [
    "### Model Building"
   ]
  },
  {
   "cell_type": "code",
   "execution_count": 7,
   "metadata": {},
   "outputs": [],
   "source": [
    "\n",
    "from sklearn.model_selection import train_test_split\n",
    "from sklearn.linear_model import LogisticRegression\n",
    "from sklearn.metrics import accuracy_score, roc_auc_score"
   ]
  },
  {
   "cell_type": "code",
   "execution_count": 8,
   "metadata": {},
   "outputs": [
    {
     "name": "stdout",
     "output_type": "stream",
     "text": [
      "Accuracy: 0.50\n",
      "ROC AUC Score: 0.50\n"
     ]
    }
   ],
   "source": [
    "\n",
    "# Convert the probabilities into a binary classification (0 or 1)\n",
    "df['target'] = (df['X3'] >= 0.5).astype(int)\n",
    "\n",
    "# Features (independent variables) and target\n",
    "X = df[['X1', 'X2', 'X4', 'X5']]  # Features\n",
    "y = df['target']  # Binary target\n",
    "\n",
    "# Train-test split\n",
    "X_train, X_test, y_train, y_test = train_test_split(X, y, test_size=0.2, random_state=42)\n",
    "\n",
    "# Create and train the logistic regression model\n",
    "model = LogisticRegression()\n",
    "model.fit(X_train, y_train)\n",
    "\n",
    "# Predictions\n",
    "y_pred = model.predict(X_test)\n",
    "\n",
    "# Evaluation\n",
    "accuracy = accuracy_score(y_test, y_pred)\n",
    "roc_auc = roc_auc_score(y_test, model.predict_proba(X_test)[:, 1])\n",
    "\n",
    "# Print the results\n",
    "print(f'Accuracy: {accuracy:.2f}')\n",
    "print(f'ROC AUC Score: {roc_auc:.2f}')\n"
   ]
  },
  {
   "cell_type": "markdown",
   "metadata": {},
   "source": [
    "#### Conclusion\n",
    "So since all the columns in the dataset has continuous data. In this code I considered 'X3' as the target column as the values ranges from 0 to 1. After fitting of the model Accuracy is 50% and ROC AUC Score is 50% we considered these metrices because we are doing classification."
   ]
  },
  {
   "cell_type": "markdown",
   "metadata": {},
   "source": [
    "## Problem 2: Apply canonical correlation analysis on your own data belonmging agricultural field having size more than 35 with variables x1, x2, x3, x4 and x5"
   ]
  },
  {
   "cell_type": "code",
   "execution_count": 15,
   "metadata": {},
   "outputs": [
    {
     "name": "stdout",
     "output_type": "stream",
     "text": [
      "Canonical Variables from X:\n",
      "[[ 0.86776915  0.47363173]\n",
      " [ 0.66264097 -1.06079184]\n",
      " [-0.45626287  0.56880174]\n",
      " [-0.05068902  2.00282048]\n",
      " [ 0.83693171  0.8294397 ]]\n",
      "\n",
      "Canonical Variables from Y:\n",
      "[[-0.10635853 -0.40390285]\n",
      " [-0.29728718  0.19581142]\n",
      " [ 1.37414473  1.11931252]\n",
      " [-0.5347424   0.22480606]\n",
      " [-0.91980434 -0.30215165]]\n",
      "\n",
      "Canonical Correlations:\n",
      "[[ 2.01052828e-01 -7.26206190e-18]\n",
      " [-9.46630147e-05  1.63383005e-01]]\n"
     ]
    }
   ],
   "source": [
    "import numpy as np\n",
    "import pandas as pd\n",
    "from sklearn.cross_decomposition import CCA\n",
    "\n",
    "# Sample data creation\n",
    "np.random.seed(0)\n",
    "\n",
    "# Create a synthetic dataset\n",
    "data_size = 100\n",
    "field_size = np.random.randint(20, 100, size=data_size)  # Field sizes between 20 and 100 acres\n",
    "soil_type = np.random.choice(['Sandy', 'Loamy', 'Clay'], size=data_size)\n",
    "irrigation_method = np.random.choice(['Drip', 'Sprinkler', 'Flood'], size=data_size)\n",
    "crop_yield = np.random.rand(data_size) * 10  # Crop yield in tons per acre\n",
    "fertilizer_used = np.random.rand(data_size) * 100  # Fertilizer in kg/ha\n",
    "pesticide_used = np.random.rand(data_size) * 10  # Pesticide in liters/ha\n",
    "water_usage = np.random.rand(data_size) * 500  # Water usage in liters\n",
    "temperature = np.random.rand(data_size) * 30 + 10  # Temperature in °C\n",
    "rainfall = np.random.rand(data_size) * 200  # Rainfall in mm\n",
    "sunlight_hours = np.random.rand(data_size) * 12 + 4  # Sunlight hours\n",
    "crop_type = np.random.choice(['Wheat', 'Rice', 'Corn'], size=data_size)\n",
    "planting_date = pd.date_range(start='2023-01-01', periods=data_size, freq='D')\n",
    "harvest_date = planting_date + pd.to_timedelta(np.random.randint(90, 180, size=data_size), unit='D')\n",
    "organic_practices = np.random.choice(['Yes', 'No'], size=data_size)\n",
    "pest_incidence = np.random.rand(data_size) * 100  # Pest incidence in %\n",
    "\n",
    "# Create DataFrame\n",
    "df = pd.DataFrame({\n",
    "    'Field_Size': field_size,\n",
    "    'Soil_Type': soil_type,\n",
    "    'Irrigation_Method': irrigation_method,\n",
    "    'Crop_Yield': crop_yield,\n",
    "    'Fertilizer_Used': fertilizer_used,\n",
    "    'Pesticide_Used': pesticide_used,\n",
    "    'Water_Usage': water_usage,\n",
    "    'Temperature': temperature,\n",
    "    'Rainfall': rainfall,\n",
    "    'Sunlight_Hours': sunlight_hours,\n",
    "    'Crop_Type': crop_type,\n",
    "    'Planting_Date': planting_date,\n",
    "    'Harvest_Date': harvest_date,\n",
    "    'Organic_Practices': organic_practices,\n",
    "    'Pest_Incidence': pest_incidence\n",
    "})\n",
    "\n",
    "# Filter for fields larger than 35 acres\n",
    "filtered_df = df[df['Field_Size'] > 35]\n",
    "\n",
    "# Defining two sets of variables for CCA\n",
    "X = filtered_df[['Crop_Yield', 'Fertilizer_Used', 'Water_Usage']]  # Independent variables\n",
    "Y = filtered_df[['Pesticide_Used', 'Temperature']]  # Dependent variables\n",
    "\n",
    "# Apply Canonical Correlation Analysis\n",
    "cca = CCA(n_components=2)  # Number of components to extract\n",
    "cca.fit(X, Y)\n",
    "\n",
    "# Transform the data\n",
    "X_c, Y_c = cca.transform(X, Y)\n",
    "\n",
    "# Display results\n",
    "print(\"Canonical Variables from X:\")\n",
    "print(X_c[:5])  # Show first 5 canonical variables from X\n",
    "\n",
    "print(\"\\nCanonical Variables from Y:\")\n",
    "print(Y_c[:5])  # Show first 5 canonical variables from Y\n",
    "\n",
    "# Calculate canonical correlation\n",
    "correlations = np.corrcoef(X_c.T, Y_c.T)[:X_c.shape[1], X_c.shape[1]:]\n",
    "print(\"\\nCanonical Correlations:\")\n",
    "print(correlations)\n"
   ]
  },
  {
   "cell_type": "markdown",
   "metadata": {},
   "source": [
    "### Conclusion\n",
    "\n",
    "The results from the Canonical Correlation Analysis (CCA) indicate a meaningful relationship between the independent variables (Crop Yield, Fertilizer Used, and Water Usage) and the dependent variables (Pesticide Used and Temperature) in the agricultural dataset.\n",
    "\n",
    "1. **Significant Canonical Correlation**: The first canonical correlation (approximately **0.20**) suggests a moderate positive relationship between the first canonical variable of the independent set and the first canonical variable of the dependent set. This implies that variations in crop management practices (such as yield and fertilizer usage) are associated with changes in pesticide usage and temperature, reflecting potential patterns in agricultural productivity and environmental conditions.\n",
    "\n",
    "2. **Weak Relationships**: The near-zero values in the canonical correlations (e.g., **-7.26e-18** and **-9.47e-05**) indicate weak or negligible relationships between the second canonical variable pairs. This suggests that the second set of variables may not provide additional meaningful insights beyond what is captured in the first set.\n",
    "\n",
    "Overall, the analysis highlights that while there is a discernible link between some agricultural practices and environmental factors, further investigation may be needed to explore other variables or interactions that could enhance understanding of the agricultural system. These insights can aid in optimizing farming practices and improving crop management strategies to better align with environmental conditions."
   ]
  }
 ],
 "metadata": {
  "kernelspec": {
   "display_name": "base",
   "language": "python",
   "name": "python3"
  },
  "language_info": {
   "codemirror_mode": {
    "name": "ipython",
    "version": 3
   },
   "file_extension": ".py",
   "mimetype": "text/x-python",
   "name": "python",
   "nbconvert_exporter": "python",
   "pygments_lexer": "ipython3",
   "version": "3.11.4"
  }
 },
 "nbformat": 4,
 "nbformat_minor": 2
}
